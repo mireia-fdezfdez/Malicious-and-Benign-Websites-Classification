{
 "cells": [
  {
   "cell_type": "markdown",
   "metadata": {},
   "source": [
    "# KAGGLE PROJECT: Malicious and Benign Websites\n",
    "## Classification Models\n",
    "\n",
    "***\n",
    "\n",
    "#### Mireia Fernández Fernández (NIU 1562636)\n",
    "\n",
    "TODO: add description!"
   ]
  },
  {
   "cell_type": "code",
   "execution_count": 1,
   "metadata": {},
   "outputs": [],
   "source": [
    "# different imports for all the libraries used\n",
    "import time \n",
    "import warnings\n",
    "import numpy as np\n",
    "import pandas as pd\n",
    "%matplotlib inline \n",
    "from sklearn import preprocessing\n",
    "from sklearn.decomposition import PCA\n",
    "from matplotlib import pyplot as plt\n",
    "import seaborn as sns\n",
    "from sklearn import metrics\n",
    "from sklearn import svm, tree, naive_bayes\n",
    "from sklearn.linear_model import LogisticRegression\n",
    "from sklearn.model_selection import train_test_split, cross_val_score, KFold, LeaveOneOut, GridSearchCV\n",
    "from sklearn.neighbors import KNeighborsClassifier\n",
    "from sklearn.ensemble import RandomForestClassifier, BaggingClassifier, AdaBoostClassifier, GradientBoostingClassifier\n",
    "from sklearn.cluster import KMeans, SpectralClustering\n",
    "from sklearn.metrics.cluster import completeness_score\n",
    "\n",
    "sns.set(style=\"darkgrid\")\n",
    "warnings.filterwarnings(\"ignore\")\n",
    "pd.set_option('display.float_format', lambda x: '%.3f' % x)"
   ]
  },
  {
   "cell_type": "code",
   "execution_count": 2,
   "metadata": {},
   "outputs": [],
   "source": [
    "# cell to clean, standardize and apply a pca to the data\n",
    "dataset = pd.read_csv(\"dataset.csv\")\n",
    "\n",
    "dataset[\"CONTENT_LENGTH\"] = dataset[\"CONTENT_LENGTH\"].fillna(0)\n",
    "dataset[\"DNS_QUERY_TIMES\"] = dataset[\"DNS_QUERY_TIMES\"].fillna(0)\n",
    "\n",
    "dataset.drop([\"URL\", \"WHOIS_STATEPRO\"], axis=1, inplace=True)\n",
    "dataset.drop([104, 290, 357, 383, 1067, 1306, 1394, 1400], inplace=True)\n",
    "\n",
    "dataset.at[1360,'WHOIS_REGDATE'] = 'None' #none?\n",
    "dataset.at[1001,'WHOIS_COUNTRY'] = 'UK'\n",
    "dataset.at[1353,'WHOIS_COUNTRY'] = 'CY'\n",
    "dataset.at[1411,'WHOIS_COUNTRY'] = 'CY'\n",
    "dataset.at[30,'WHOIS_COUNTRY'] = 'SE'\n",
    "\n",
    "for i in dataset.index[dataset['WHOIS_COUNTRY'] == 'GB'].tolist():\n",
    "    dataset.at[i,'WHOIS_COUNTRY'] = 'UK'    \n",
    "for i in dataset.index[dataset['WHOIS_COUNTRY'] == 'ru'].tolist():\n",
    "    dataset.at[i,'WHOIS_COUNTRY'] = 'RU'\n",
    "\n",
    "f_hour_day = lambda a, b: a + b/60 \n",
    "\n",
    "def separate_attr(dataset, column, pos_year, pos_date, new_col_year, new_col_date):\n",
    "    year = []\n",
    "    hour = []\n",
    "    for i in dataset[column]:\n",
    "        if (i != 'None'):\n",
    "            dyh = i.split(\" \") \n",
    "            year.append(dyh[0].split(\"/\")[2])\n",
    "            hour.append(f_hour_day(*[int(j) for j in dyh[1].split(\":\")]))\n",
    "        else:\n",
    "            year.append(0) \n",
    "            hour.append(0) \n",
    "\n",
    "    dataset.insert(pos_year, new_col_year, year, True)\n",
    "    dataset.insert(pos_date, new_col_date, hour, True)\n",
    "    dataset.drop([column], axis=1, inplace=True)\n",
    "\n",
    "separate_attr(dataset, \"WHOIS_REGDATE\", 6, 7, \"WHOIS_REGD_YEAR\", \"WHOIS_REGD_HOUR\")\n",
    "separate_attr(dataset, \"WHOIS_UPDATED_DATE\", 8, 9, \"WHOIS_REGUP_YEAR\", \"WHOIS_REGUP_HOUR\")\n",
    "\n",
    "dataset = pd.get_dummies(dataset, columns=[\"CHARSET\",\"SERVER\",\"WHOIS_COUNTRY\"]) \n",
    "\n",
    "y = dataset[\"Type\"]\n",
    "dataset.drop([\"Type\"], axis=1, inplace=True)\n",
    "X = dataset\n",
    "sX = preprocessing.scale(X)\n",
    "\n",
    "pca = PCA()\n",
    "pca.fit(sX)\n",
    "pca_data = pca.transform(sX)\n",
    "labels = ['PC'+str(i) for i in range(1, 243)]\n",
    "X = pd.DataFrame(pca_data[:,:242], columns=labels) # scaled pca dataset (exp var is 90%)"
   ]
  },
  {
   "cell_type": "markdown",
   "metadata": {},
   "source": [
    "***\n",
    "#### BASIC CLASSIFIERS"
   ]
  },
  {
   "cell_type": "code",
   "execution_count": 3,
   "metadata": {},
   "outputs": [],
   "source": [
    "# first we define some functions in order to use them easilier later on\n",
    "\n",
    "def fit_lr(X, y, part = 0.6):\n",
    "\n",
    "    x_t, x_v, y_t, y_v = train_test_split(X, y, train_size=part)\n",
    "    logireg = LogisticRegression(C=2.0, fit_intercept=True, penalty='l2', tol=0.001) \n",
    "    logireg.fit(x_t, y_t)\n",
    "    return logireg.score(x_v, y_v)\n",
    "\n",
    "\n",
    "def fit_KNN(X, y, part = 0.6, n = 15):\n",
    "    \n",
    "    x_t, x_v, y_t, y_v = train_test_split(X, y, train_size=part)\n",
    "    clf = KNeighborsClassifier(n_neighbors=n)\n",
    "    clf.fit(x_t,y_t)\n",
    "    y_pred=clf.predict(x_v)\n",
    "    return metrics.accuracy_score(y_v, y_pred)\n",
    "\n",
    "\n",
    "def fit_svm(X, y, part = 0.6, k = 'linear', C = 10.0, g = 0.9):\n",
    "    x_t, x_v, y_t, y_v = train_test_split(X, y, train_size=part)\n",
    "    svc = svm.SVC(C=C, kernel=k, gamma=g, probability=True)   \n",
    "    svc.fit(x_t, y_t)\n",
    "    return svc.score(x_v, y_v)\n",
    "\n",
    "\n",
    "def fit_decision_tree(X, y, part = 0.6):\n",
    "    x_t, x_v, y_t, y_v = train_test_split(X, y, train_size=part)\n",
    "    dt = tree.DecisionTreeClassifier()\n",
    "    dt.fit(x_t, y_t)\n",
    "    y_pred=dt.predict(x_v)\n",
    "    return metrics.accuracy_score(y_v, y_pred)\n",
    "\n",
    "\n",
    "def fit_gnb(X, y, part = 0.6):\n",
    "    x_t, x_v, y_t, y_v = train_test_split(X, y, train_size=part)\n",
    "    gnb = naive_bayes.GaussianNB()\n",
    "    gnb.fit(x_t, y_t)\n",
    "    return gnb.score(x_v, y_v)\n",
    "\n",
    "\n",
    "def fit_rf(X, y, i = 50, part = 0.6):\n",
    "    \n",
    "    x_t, x_v, y_t, y_v = train_test_split(X, y, train_size=part)\n",
    "    clf = RandomForestClassifier(n_estimators=i)\n",
    "    clf.fit(x_t,y_t)\n",
    "    y_pred=clf.predict(x_v)\n",
    "    return metrics.accuracy_score(y_v, y_pred)\n"
   ]
  },
  {
   "cell_type": "code",
   "execution_count": 4,
   "metadata": {},
   "outputs": [
    {
     "name": "stdout",
     "output_type": "stream",
     "text": [
      "LR accuracy: 93.09859154929578 % | execution time: 0.14013290405273438 seconds\n"
     ]
    }
   ],
   "source": [
    "# lets try a logistic regressor:\n",
    "\n",
    "b = time.time()\n",
    "result = fit_lr(X, y)\n",
    "e = time.time()\n",
    "\n",
    "print(\"LR accuracy:\", result*100, \"% | execution time:\", e-b, \"seconds\")"
   ]
  },
  {
   "cell_type": "code",
   "execution_count": 5,
   "metadata": {},
   "outputs": [
    {
     "name": "stdout",
     "output_type": "stream",
     "text": [
      "3NN accuracy: 94.92957746478872 % | execution time: 0.2498922348022461 seconds\n",
      "5NN accuracy: 95.63380281690141 % | execution time: 0.24534034729003906 seconds\n",
      "7NN accuracy: 96.47887323943662 % | execution time: 0.284930944442749 seconds\n",
      "10NN accuracy: 94.22535211267605 % | execution time: 0.28142619132995605 seconds\n",
      "15NN accuracy: 94.64788732394366 % | execution time: 0.2882192134857178 seconds\n"
     ]
    }
   ],
   "source": [
    "# lets try some KNNs:\n",
    "\n",
    "for neigh in [3, 5, 7, 10, 15]:\n",
    "    b = time.time()\n",
    "    result = fit_KNN(X, y, n = neigh)\n",
    "    e = time.time()\n",
    "    \n",
    "    print(str(neigh)+\"NN accuracy: \"+str(100*result), \"% | execution time:\", e-b, \"seconds\")"
   ]
  },
  {
   "cell_type": "code",
   "execution_count": 6,
   "metadata": {},
   "outputs": [
    {
     "name": "stdout",
     "output_type": "stream",
     "text": [
      "LR accuracy: 93.52112676056338 % | execution time: 0.2373654842376709 seconds\n"
     ]
    }
   ],
   "source": [
    "# lets try a desicion tree:\n",
    "\n",
    "b = time.time()\n",
    "result = fit_decision_tree(X, y)\n",
    "e = time.time()\n",
    "\n",
    "print(\"LR accuracy:\", result*100, \"% | execution time:\", e-b, \"seconds\")"
   ]
  },
  {
   "cell_type": "code",
   "execution_count": 7,
   "metadata": {},
   "outputs": [
    {
     "name": "stdout",
     "output_type": "stream",
     "text": [
      "linear SVC accuracy: 92.53521126760563 % | execution time: 0.7268612384796143 seconds\n",
      "poly SVC accuracy: 88.30985915492958 % | execution time: 0.4444918632507324 seconds\n",
      "rbf SVC accuracy: 95.77464788732394 % | execution time: 1.5661475658416748 seconds\n",
      "sigmoid SVC accuracy: 74.08450704225352 % | execution time: 0.5338494777679443 seconds\n"
     ]
    }
   ],
   "source": [
    "# lets try a SVC() with every type of kernel we can use:\n",
    "\n",
    "for kern in ['linear', 'poly', 'rbf', 'sigmoid']:\n",
    "    b = time.time()\n",
    "    result = fit_svm(X, y, k = kern)\n",
    "    e = time.time()\n",
    "    \n",
    "    print(str(kern)+\" SVC accuracy: \"+str(100*result), \"% | execution time:\", e-b, \"seconds\")"
   ]
  },
  {
   "cell_type": "code",
   "execution_count": 8,
   "metadata": {},
   "outputs": [
    {
     "name": "stdout",
     "output_type": "stream",
     "text": [
      "GNB accuracy: 31.690140845070424 % | execution time: 0.20973467826843262 seconds\n"
     ]
    }
   ],
   "source": [
    "# lets try a gausian naive bayes:\n",
    "\n",
    "b = time.time()\n",
    "result = fit_gnb(X, y)\n",
    "e = time.time()\n",
    "\n",
    "print(\"GNB accuracy:\", result*100, \"% | execution time:\", e-b, \"seconds\")"
   ]
  },
  {
   "cell_type": "markdown",
   "metadata": {},
   "source": [
    "***\n",
    "#### ENSEMBLE METHODS"
   ]
  },
  {
   "cell_type": "code",
   "execution_count": 9,
   "metadata": {},
   "outputs": [],
   "source": [
    "# separate the dataset for the following classificators\n",
    "x_t, x_v, y_t, y_v = train_test_split(X, y, train_size=0.6)"
   ]
  },
  {
   "cell_type": "code",
   "execution_count": 10,
   "metadata": {},
   "outputs": [
    {
     "name": "stdout",
     "output_type": "stream",
     "text": [
      "10NN accuracy: 95.2112676056338 % | execution time: 0.05973005294799805 seconds\n",
      "50NN accuracy: 95.49295774647887 % | execution time: 0.2701435089111328 seconds\n",
      "100NN accuracy: 96.19718309859155 % | execution time: 0.5445160865783691 seconds\n",
      "150NN accuracy: 95.91549295774648 % | execution time: 0.7501716613769531 seconds\n",
      "300NN accuracy: 96.19718309859155 % | execution time: 1.5599157810211182 seconds\n"
     ]
    }
   ],
   "source": [
    "# lets try some random forests:\n",
    "\n",
    "for trees in [10, 50, 100, 150, 300]:\n",
    "    b = time.time()\n",
    "    result = fit_rf(X, y, trees)\n",
    "    e = time.time()\n",
    "    \n",
    "    print(str(trees)+\"NN accuracy: \"+str(100*result), \"% | execution time:\", e-b, \"seconds\")"
   ]
  },
  {
   "cell_type": "code",
   "execution_count": 11,
   "metadata": {},
   "outputs": [
    {
     "name": "stdout",
     "output_type": "stream",
     "text": [
      "LR-Bagging accuracy: 91.12676056338029 % | execution time: 1.5599157810211182 seconds\n"
     ]
    }
   ],
   "source": [
    "# bagging with a logistic regressor:\n",
    "\n",
    "clf_lr = BaggingClassifier(base_estimator=LogisticRegression(C=2.0, fit_intercept=True, penalty='l2', tol=0.001), n_estimators=10, random_state=0).fit(x_t, y_t)\n",
    "print(\"LR-Bagging accuracy: \"+str(100*clf_lr.score(x_v, y_v)), \"% | execution time:\", e-b, \"seconds\")\n"
   ]
  },
  {
   "cell_type": "code",
   "execution_count": 12,
   "metadata": {},
   "outputs": [
    {
     "name": "stdout",
     "output_type": "stream",
     "text": [
      "10NN-Bagging accuracy: 94.22535211267605 % | execution time: 1.5599157810211182 seconds\n"
     ]
    }
   ],
   "source": [
    "# bagging classifier with a knn with the number of neighbours that performs the best regressor:\n",
    "\n",
    "clf_knn = BaggingClassifier(base_estimator=KNeighborsClassifier(n_neighbors = 10), n_estimators=10, random_state=0).fit(x_t, y_t)\n",
    "print(str(10)+\"NN-Bagging accuracy: \"+str(100*clf_knn.score(x_v, y_v)), \"% | execution time:\", e-b, \"seconds\")\n"
   ]
  },
  {
   "cell_type": "code",
   "execution_count": 13,
   "metadata": {},
   "outputs": [
    {
     "name": "stdout",
     "output_type": "stream",
     "text": [
      "SVC(rbf)-Bagging accuracy: 96.05633802816902 % | execution time: 1.5599157810211182 seconds\n"
     ]
    }
   ],
   "source": [
    "# bagging svc with the number of neighbours that performs the best regressor:\n",
    "\n",
    "clf_svc = BaggingClassifier(base_estimator=svm.SVC(C=2.0, kernel='rbf', gamma=0.9, probability=True), n_estimators=10, random_state=0).fit(x_t, y_t)\n",
    "print(\"SVC(rbf)-Bagging accuracy: \"+str(100*clf_svc.score(x_v, y_v)), \"% | execution time:\", e-b, \"seconds\")\n"
   ]
  },
  {
   "cell_type": "code",
   "execution_count": 14,
   "metadata": {},
   "outputs": [
    {
     "name": "stdout",
     "output_type": "stream",
     "text": [
      "100 AdaBoost accuracy: 95.35211267605634 % | execution time: 1.839972734451294 seconds\n",
      "500 AdaBoost accuracy: 95.2112676056338 % | execution time: 9.209770202636719 seconds\n",
      "1000 AdaBoost accuracy: 94.92957746478872 % | execution time: 18.196897745132446 seconds\n",
      "1500 AdaBoost accuracy: 95.07042253521126 % | execution time: 27.186609983444214 seconds\n"
     ]
    }
   ],
   "source": [
    "# lets try some adaptive boosting classifiers:\n",
    "\n",
    "for ests in [100, 500, 1000, 1500]:\n",
    "    b = time.time()\n",
    "    abc = AdaBoostClassifier(n_estimators=ests).fit(x_t, y_t)\n",
    "    e = time.time()\n",
    "    \n",
    "    print(str(ests)+\" AdaBoost accuracy: \"+str(100*(abc.score(x_v,y_v))), \"% | execution time:\", e-b, \"seconds\")"
   ]
  },
  {
   "cell_type": "code",
   "execution_count": 15,
   "metadata": {},
   "outputs": [
    {
     "name": "stdout",
     "output_type": "stream",
     "text": [
      "100-GB accuracy: 93.52112676056338 % | execution time: 0.8102152347564697 seconds\n",
      "500-GB accuracy: 93.52112676056338 % | execution time: 1.7807321548461914 seconds\n",
      "1000-GB accuracy: 93.52112676056338 % | execution time: 3.1501119136810303 seconds\n",
      "1500-GB accuracy: 93.52112676056338 % | execution time: 4.540017604827881 seconds\n"
     ]
    }
   ],
   "source": [
    "# gradient boosting:\n",
    "\n",
    "for ests in [100, 500, 1000, 1500]:\n",
    "    b = time.time()\n",
    "    clf = GradientBoostingClassifier(n_estimators=ests, learning_rate=1.0, max_depth=3, random_state=0).fit(x_t, y_t)\n",
    "    e = time.time()\n",
    "    \n",
    "    print(str(ests)+\"-GB accuracy: \"+str(100*clf.score(x_v, y_v)), \"% | execution time:\", e-b, \"seconds\")"
   ]
  },
  {
   "cell_type": "markdown",
   "metadata": {},
   "source": [
    "***\n",
    "#### CLUSTERING"
   ]
  },
  {
   "cell_type": "code",
   "execution_count": 16,
   "metadata": {},
   "outputs": [
    {
     "name": "stdout",
     "output_type": "stream",
     "text": [
      "5-Means accuracy: 7.798896780573888 % | execution time: 0.3704054355621338 seconds\n",
      "6-Means accuracy: 3.4535723724890763 % | execution time: 0.3201179504394531 seconds\n",
      "7-Means accuracy: 3.764128753241332 % | execution time: 0.30019092559814453 seconds\n",
      "8-Means accuracy: 0.24047277658601615 % | execution time: 0.3646275997161865 seconds\n",
      "9-Means accuracy: 2.859148940634244 % | execution time: 0.3098180294036865 seconds\n",
      "10-Means accuracy: 4.902995295915304 % | execution time: 0.30161166191101074 seconds\n",
      "15-Means accuracy: 4.141790591451778 % | execution time: 0.41870737075805664 seconds\n",
      "20-Means accuracy: 8.169690368755221 % | execution time: 0.4747447967529297 seconds\n"
     ]
    }
   ],
   "source": [
    "# kmeans method:\n",
    "\n",
    "for clus in [5, 6, 7, 8, 9, 10, 15, 20]:\n",
    "    b = time.time()\n",
    "    kmns = KMeans(n_clusters= clus)\n",
    "    y_pred = kmns.fit_predict(X)\n",
    "    e = time.time()\n",
    "    \n",
    "    print(str(clus)+\"-Means accuracy: \"+str(100*completeness_score(y, y_pred)), \"% | execution time:\", e-b, \"seconds\")\n"
   ]
  },
  {
   "cell_type": "code",
   "execution_count": 17,
   "metadata": {},
   "outputs": [
    {
     "name": "stdout",
     "output_type": "stream",
     "text": [
      "kmeans 8-Spectral accuracy: 1.5324178227940044 % | execution time: 317.76536417007446 seconds\n",
      "discretize 8-Spectral accuracy: 1.0845964050500665 % | execution time: 333.05747413635254 seconds\n",
      "kmeans 10-Spectral accuracy: 1.5324178227940044 % | execution time: 249.3796989917755 seconds\n",
      "discretize 10-Spectral accuracy: 0.7043373257441014 % | execution time: 248.67166924476624 seconds\n",
      "kmeans 12-Spectral accuracy: 1.5324178227940044 % | execution time: 295.27912068367004 seconds\n",
      "discretize 12-Spectral accuracy: 0.7431569496539053 % | execution time: 300.7488317489624 seconds\n"
     ]
    }
   ],
   "source": [
    "# spectral clustering method:\n",
    "\n",
    "for clus in [8, 10, 12]:\n",
    "    for assign in ['kmeans', 'discretize']:\n",
    "        b = time.time()\n",
    "        y_pred = SpectralClustering(n_clusters=clus, assign_labels=assign).fit_predict(X)\n",
    "        e = time.time()\n",
    "    \n",
    "        print(assign, str(clus)+\"-Spectral accuracy: \"+str(100*completeness_score(y, y_pred)), \"% | execution time:\", e-b, \"seconds\")\n"
   ]
  },
  {
   "cell_type": "markdown",
   "metadata": {},
   "source": [
    "***\n",
    "#### **CROSS VALIDATION**\n",
    "\n",
    "Here we will take the best three models (KNN, SVM, Random Forest) with their best parameters found manually to make sure that they perform well enough and does not suffer form overfitting."
   ]
  },
  {
   "cell_type": "code",
   "execution_count": 18,
   "metadata": {},
   "outputs": [
    {
     "data": {
      "image/png": "[encoded data removed]",
      "text/plain": [
       "<Figure size 432x288 with 1 Axes>"
      ]
     },
     "metadata": {
      "needs_background": "light"
     },
     "output_type": "display_data"
    }
   ],
   "source": [
    "# First we look at different types of KNN:\n",
    "scores_knn = []\n",
    "for neigh in [3, 5, 7, 10, 15]:\n",
    "    model = KNeighborsClassifier(n_neighbors=neigh)\n",
    "    scores_knn.append(cross_val_score(model, X, y, cv=15))\n",
    "    \n",
    "plt.boxplot(scores_knn)   \n",
    "ax = plt.gca()\n",
    "ax.set_xticklabels(['3-NN', '5-NN', '7-NN', '10-NN', '15-NN'])\n",
    "plt.ylabel('Accuracy')\n",
    "plt.show()"
   ]
  },
  {
   "cell_type": "code",
   "execution_count": 19,
   "metadata": {},
   "outputs": [
    {
     "data": {
      "image/png": "[encoded data removed]",
      "text/plain": [
       "<Figure size 432x288 with 1 Axes>"
      ]
     },
     "metadata": {
      "needs_background": "light"
     },
     "output_type": "display_data"
    }
   ],
   "source": [
    "# then we look at some random forest classifiers with different number of trees:\n",
    "scores_rfs = []\n",
    "for trees in [10, 50, 100, 150, 300]:\n",
    "    model = RandomForestClassifier(n_estimators=trees)\n",
    "    scores_rfs.append(cross_val_score(model, X, y, cv=15))\n",
    "    \n",
    "plt.boxplot(scores_rfs)   \n",
    "ax = plt.gca()\n",
    "ax.set_xticklabels(['10-Trees', '50-Trees', '100-Trees', '150-Trees', '300-Trees'])\n",
    "plt.ylabel('Accuracy')\n",
    "plt.show()"
   ]
  },
  {
   "cell_type": "code",
   "execution_count": 20,
   "metadata": {},
   "outputs": [],
   "source": [
    "# get the score for the svm with a rbf kernel:\n",
    "\n",
    "model = svm.SVC(C=2.0, kernel='rbf', gamma=0.9, probability=True)\n",
    "score_svm = cross_val_score(model, X, y, cv=15)"
   ]
  },
  {
   "cell_type": "code",
   "execution_count": 21,
   "metadata": {},
   "outputs": [
    {
     "data": {
      "image/png": "[encoded data removed]",
      "text/plain": [
       "<Figure size 432x288 with 1 Axes>"
      ]
     },
     "metadata": {
      "needs_background": "light"
     },
     "output_type": "display_data"
    }
   ],
   "source": [
    "# boxplot of the best five models:\n",
    "\n",
    "plt.boxplot([scores_knn[2], scores_knn[3], scores_rfs[2], scores_rfs[3], score_svm])   \n",
    "ax = plt.gca()\n",
    "ax.set_xticklabels(['7-NN', '10-NN', '100-Trees', '150-Trees', 'SVM'])\n",
    "plt.ylabel('Accuracy')\n",
    "plt.show()"
   ]
  },
  {
   "cell_type": "markdown",
   "metadata": {},
   "source": [
    "***\n",
    "#### **HYPERPARAMETER SEARCH**\n",
    "\n",
    "For each model selected (KNN, Random Forest, SVM):"
   ]
  },
  {
   "cell_type": "code",
   "execution_count": 22,
   "metadata": {},
   "outputs": [],
   "source": [
    "# again, separate the data to perform the search\n",
    "X_train, X_test, y_train, y_test = train_test_split(X, y, test_size=0.8)"
   ]
  },
  {
   "cell_type": "code",
   "execution_count": 23,
   "metadata": {},
   "outputs": [
    {
     "name": "stdout",
     "output_type": "stream",
     "text": [
      "Tuning hyper-parameters for precision\n",
      "\n",
      "Best parameter found: {'C': 19.144819761699576} \n",
      "\n",
      "Tuning hyper-parameters for recall\n",
      "\n",
      "Best parameter found: {'C': 49.238826317067364} \n",
      "\n"
     ]
    }
   ],
   "source": [
    "#search for the svm model\n",
    "\n",
    "cs = np.logspace(-2, 6, 40)\n",
    "tuned_parameters = [{\"C\": cs}]\n",
    "scores = [\"precision\", \"recall\"]\n",
    "meanss = []\n",
    "stdss = []\n",
    "bests = []\n",
    "\n",
    "for score in scores:\n",
    "    print(\"Tuning hyper-parameters for %s\\n\" % score)\n",
    "\n",
    "    clf = GridSearchCV(svm.SVC(kernel = 'rbf'), tuned_parameters, scoring=\"%s_macro\" % score)\n",
    "    clf.fit(X_train, y_train)\n",
    "\n",
    "    print(\"Best parameter found:\", clf.best_params_, \"\\n\")\n",
    "    bests.append(clf.best_params_['C'])\n",
    "\n",
    "    means = clf.cv_results_[\"mean_test_score\"]\n",
    "    meanss.append(means)\n",
    "    \n",
    "    stds = clf.cv_results_[\"std_test_score\"]\n",
    "    stdss.append(stds)"
   ]
  },
  {
   "cell_type": "code",
   "execution_count": 24,
   "metadata": {},
   "outputs": [
    {
     "data": {
      "image/png": "[encoded data removed]",
      "text/plain": [
       "<Figure size 432x288 with 1 Axes>"
      ]
     },
     "metadata": {
      "needs_background": "light"
     },
     "output_type": "display_data"
    }
   ],
   "source": [
    "# graph to visualize the hyperparameter search \n",
    "\n",
    "fig = plt.figure()\n",
    "\n",
    "plt.suptitle(\"SVM\", fontsize = 'x-large', fontweight = 'bold')\n",
    "plt.plot(cs, meanss[0], \"o--\", label=\"score for precission\", color=\"blue\")\n",
    "plt.plot(cs, meanss[1], \"o--\", label=\"score for recall\", color=\"red\")\n",
    "plt.xscale(\"log\")\n",
    "plt.axis('tight')\n",
    "plt.xlabel('Value of C')\n",
    "plt.axvline(x=bests[1], color='black', label='best C', ls = \":\")\n",
    "\n",
    "plt.legend()\n",
    "plt.show()"
   ]
  },
  {
   "cell_type": "code",
   "execution_count": 25,
   "metadata": {},
   "outputs": [
    {
     "name": "stdout",
     "output_type": "stream",
     "text": [
      "Minimum error: 0.05144467935165609 at K = 2 with accuracy: 94.85553206483439\n"
     ]
    },
    {
     "data": {
      "image/png": "[encoded data removed]",
      "text/plain": [
       "<Figure size 432x288 with 1 Axes>"
      ]
     },
     "metadata": {
      "needs_background": "light"
     },
     "output_type": "display_data"
    }
   ],
   "source": [
    "#search for the knn model\n",
    "\n",
    "error_rate = []\n",
    "acc_score = []\n",
    "for i in range(1,30):\n",
    "    knn = KNeighborsClassifier(n_neighbors=i)\n",
    "    knn.fit(X_train,y_train)\n",
    "    pred_i = knn.predict(X_test)\n",
    "    error_rate.append(np.mean(pred_i != y_test))\n",
    "    acc_score.append(metrics.accuracy_score(y_test, pred_i))\n",
    "\n",
    "plt.figure()\n",
    "plt.suptitle(\"KNN: Error Rate vs. K Value\", fontsize = 'x-large', fontweight = 'bold')\n",
    "plt.plot(range(1,30), error_rate, 'o--', color='blue')\n",
    "plt.xlabel('K')\n",
    "plt.ylabel('Error Rate')\n",
    "\n",
    "print(\"Minimum error:\", min(error_rate),\"at K =\", error_rate.index(min(error_rate))+1, \"with accuracy:\", acc_score[error_rate.index(min(error_rate))]*100)"
   ]
  },
  {
   "cell_type": "code",
   "execution_count": 27,
   "metadata": {},
   "outputs": [
    {
     "name": "stdout",
     "output_type": "stream",
     "text": [
      "Minimum error: 0.040169133192389 at Trees = 111 with accuracy: 95.9830866807611\n"
     ]
    },
    {
     "data": {
      "image/png": "[encoded data removed]",
      "text/plain": [
       "<Figure size 432x288 with 1 Axes>"
      ]
     },
     "metadata": {
      "needs_background": "light"
     },
     "output_type": "display_data"
    }
   ],
   "source": [
    "#search for the random forest model\n",
    "\n",
    "error_rate = []\n",
    "acc_score = []\n",
    "for i in range(10,300):\n",
    "    rf = RandomForestClassifier(n_estimators=i)\n",
    "    rf.fit(X_train,y_train)\n",
    "    pred_i = rf.predict(X_test)\n",
    "    error_rate.append(np.mean(pred_i != y_test))\n",
    "    acc_score.append(metrics.accuracy_score(y_test, pred_i))\n",
    "    \n",
    "plt.figure()\n",
    "plt.suptitle(\"RF: Error Rate vs. Number of Trees\", fontsize = 'x-large', fontweight = 'bold')\n",
    "plt.plot(range(10,300), error_rate, 'o--', color='blue')\n",
    "plt.xlabel('Trees')\n",
    "plt.ylabel('Error Rate')\n",
    "\n",
    "print(\"Minimum error:\", min(error_rate),\"at Trees =\", error_rate.index(min(error_rate))+1, \"with accuracy:\", acc_score[error_rate.index(min(error_rate))]*100)"
   ]
  },
  {
   "cell_type": "code",
   "execution_count": null,
   "metadata": {},
   "outputs": [],
   "source": []
  }
 ],
 "metadata": {
  "kernelspec": {
   "display_name": "Python 3",
   "language": "python",
   "name": "python3"
  },
  "language_info": {
   "codemirror_mode": {
    "name": "ipython",
    "version": 3
   },
   "file_extension": ".py",
   "mimetype": "text/x-python",
   "name": "python",
   "nbconvert_exporter": "python",
   "pygments_lexer": "ipython3",
   "version": "3.7.4"
  }
 },
 "nbformat": 4,
 "nbformat_minor": 4
}
